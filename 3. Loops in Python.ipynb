{
 "cells": [
  {
   "cell_type": "markdown",
   "id": "a37aac71",
   "metadata": {},
   "source": [
    "# For Loop"
   ]
  },
  {
   "cell_type": "code",
   "execution_count": 3,
   "id": "a9853ee0",
   "metadata": {},
   "outputs": [
    {
     "name": "stdout",
     "output_type": "stream",
     "text": [
      "s\n",
      "t\n",
      "u\n",
      "d\n",
      "y\n",
      " \n",
      "m\n",
      "a\n",
      "r\n",
      "t\n"
     ]
    }
   ],
   "source": [
    "data='study mart'\n",
    "for x in data:\n",
    "    print(x)"
   ]
  },
  {
   "cell_type": "code",
   "execution_count": 4,
   "id": "474bca1e",
   "metadata": {},
   "outputs": [
    {
     "name": "stdout",
     "output_type": "stream",
     "text": [
      "study\n",
      "mart\n"
     ]
    }
   ],
   "source": [
    "for x in data.split():\n",
    "    print(x)"
   ]
  },
  {
   "cell_type": "code",
   "execution_count": 5,
   "id": "6a9d9b78",
   "metadata": {},
   "outputs": [
    {
     "name": "stdout",
     "output_type": "stream",
     "text": [
      "s\n",
      "t\n",
      "u\n",
      "d\n",
      "y\n",
      " \n",
      "m\n",
      "a\n",
      "r\n",
      "t\n"
     ]
    }
   ],
   "source": [
    "for x in range(len(data)):\n",
    "    print(data[x])"
   ]
  },
  {
   "cell_type": "code",
   "execution_count": 7,
   "id": "274ab001",
   "metadata": {},
   "outputs": [
    {
     "name": "stdout",
     "output_type": "stream",
     "text": [
      "s\n",
      "t\n",
      "u\n",
      "d\n",
      "y\n",
      " \n",
      "m\n"
     ]
    }
   ],
   "source": [
    "for x in range(7):\n",
    "    print(data[x])"
   ]
  },
  {
   "cell_type": "code",
   "execution_count": 10,
   "id": "00a0ad3e",
   "metadata": {},
   "outputs": [
    {
     "name": "stdout",
     "output_type": "stream",
     "text": [
      "data science 100\n",
      "data science 90\n",
      "data science 80\n",
      "data science 70\n",
      "data science 60\n"
     ]
    }
   ],
   "source": [
    "for i in range(100,50,-10): # i = i+2\n",
    "    print('data science',i)"
   ]
  },
  {
   "cell_type": "code",
   "execution_count": 12,
   "id": "56636f34",
   "metadata": {},
   "outputs": [
    {
     "name": "stdout",
     "output_type": "stream",
     "text": [
      "Total = 301\n"
     ]
    }
   ],
   "source": [
    "n = [2,3,4,55,60,77,100]\n",
    "total = 0\n",
    "for x in n:\n",
    "    total = total+x\n",
    "    #print(total,x)\n",
    "print('Total =',total)"
   ]
  },
  {
   "cell_type": "code",
   "execution_count": 13,
   "id": "dbed4de7",
   "metadata": {},
   "outputs": [
    {
     "name": "stdout",
     "output_type": "stream",
     "text": [
      "2 2\n",
      "6 3\n",
      "24 4\n",
      "Total = 24\n"
     ]
    }
   ],
   "source": [
    "n = [2,3,4]\n",
    "total = 1\n",
    "for x in n:\n",
    "    total = total*x\n",
    "    print(total,x)\n",
    "print('Total =',total)"
   ]
  },
  {
   "cell_type": "markdown",
   "id": "8564e9e8",
   "metadata": {},
   "source": [
    "# Nested for Loop"
   ]
  },
  {
   "cell_type": "code",
   "execution_count": 18,
   "id": "bf47f470",
   "metadata": {},
   "outputs": [
    {
     "name": "stdout",
     "output_type": "stream",
     "text": [
      "1 2 3 4 5 \n",
      "2 4 6 8 10 \n",
      "3 6 9 12 15 \n",
      "4 8 12 16 20 \n",
      "5 10 15 20 25 \n"
     ]
    }
   ],
   "source": [
    "# outer loop\n",
    "for i in range(1, 6):\n",
    "    # nested loop\n",
    "    # to iterate from 1 to 10\n",
    "    for j in range(1, 6):\n",
    "        # print multiplication\n",
    "        print(i * j, end=' ')\n",
    "    print()"
   ]
  },
  {
   "cell_type": "markdown",
   "id": "e66da0f1",
   "metadata": {},
   "source": [
    "# While Loop"
   ]
  },
  {
   "cell_type": "code",
   "execution_count": 15,
   "id": "fc81f92e",
   "metadata": {},
   "outputs": [
    {
     "name": "stdout",
     "output_type": "stream",
     "text": [
      "0\n",
      "1\n",
      "2\n",
      "3\n",
      "4\n",
      "5\n"
     ]
    }
   ],
   "source": [
    "i = 0\n",
    "while (i<=5):\n",
    "    print(i)\n",
    "    i +=1 # i = i+1"
   ]
  },
  {
   "cell_type": "markdown",
   "id": "fdccca18",
   "metadata": {},
   "source": [
    "# Nested While"
   ]
  },
  {
   "cell_type": "code",
   "execution_count": 20,
   "id": "928eacc8",
   "metadata": {},
   "outputs": [
    {
     "name": "stdout",
     "output_type": "stream",
     "text": [
      "2 3 4 5 \n",
      "4 6 8 10 \n",
      "6 9 12 15 \n",
      "8 12 16 20 \n"
     ]
    }
   ],
   "source": [
    "i = 1\n",
    "while i < 5 :\n",
    "    j = 2\n",
    "    while  j < 6 :\n",
    "        print(i*j, end=\" \")\n",
    "        j += 1\n",
    "    print()\n",
    "    i += 1"
   ]
  },
  {
   "cell_type": "markdown",
   "id": "53337e17",
   "metadata": {},
   "source": [
    "# For vs While Loop in Python"
   ]
  },
  {
   "cell_type": "markdown",
   "id": "8712c2ce",
   "metadata": {},
   "source": [
    "The for loop is used when you want to execute a set of statements for a fixed number of times. It works by iterating over a sequence, such as a list, tuple, or string, and executing the statements in the loop body once for each item in the sequence. The loop will automatically terminate once all items have been processed. Here's an example:"
   ]
  },
  {
   "cell_type": "code",
   "execution_count": 21,
   "id": "ee0e889a",
   "metadata": {},
   "outputs": [
    {
     "name": "stdout",
     "output_type": "stream",
     "text": [
      "a\n",
      "b\n",
      "c\n"
     ]
    }
   ],
   "source": [
    "fruits = [\"a\", \"b\", \"c\"]\n",
    "for fruit in fruits:\n",
    "    print(fruit)\n"
   ]
  },
  {
   "cell_type": "markdown",
   "id": "695706da",
   "metadata": {},
   "source": [
    "The while loop, on the other hand, is used when you want to execute a set of statements as long as a certain condition is true. The loop will continue to execute until the condition becomes false. It's important to make sure that the condition will eventually become false, or you may end up with an infinite loop. Here's an example:"
   ]
  },
  {
   "cell_type": "code",
   "execution_count": 22,
   "id": "784bffe4",
   "metadata": {},
   "outputs": [
    {
     "name": "stdout",
     "output_type": "stream",
     "text": [
      "0\n",
      "1\n",
      "2\n"
     ]
    }
   ],
   "source": [
    "i = 0\n",
    "while i < 3:\n",
    "    print(i)\n",
    "    i += 1\n"
   ]
  },
  {
   "cell_type": "markdown",
   "id": "770d4907",
   "metadata": {},
   "source": [
    "# While loop through a list in Python"
   ]
  },
  {
   "cell_type": "code",
   "execution_count": 24,
   "id": "ffd1ade7",
   "metadata": {},
   "outputs": [
    {
     "name": "stdout",
     "output_type": "stream",
     "text": [
      "USA\n",
      "CHINA\n",
      "BRAZIL\n",
      "TURKEY\n"
     ]
    }
   ],
   "source": [
    "# creating a list\n",
    "countries = [\"USA\", \"CHINA\", \"BRAZIL\", \"TURKEY\"]\n",
    "\n",
    "# starting at 0 index\n",
    "i = 0\n",
    "\n",
    "# using a while loop\n",
    "while i < len(countries):\n",
    "    print(countries[i])\n",
    "\n",
    "  # giving an incrememt of 1 to i\n",
    "    i = i + 1"
   ]
  },
  {
   "cell_type": "code",
   "execution_count": null,
   "id": "e764ef71",
   "metadata": {},
   "outputs": [],
   "source": []
  }
 ],
 "metadata": {
  "kernelspec": {
   "display_name": "Python 3 (ipykernel)",
   "language": "python",
   "name": "python3"
  },
  "language_info": {
   "codemirror_mode": {
    "name": "ipython",
    "version": 3
   },
   "file_extension": ".py",
   "mimetype": "text/x-python",
   "name": "python",
   "nbconvert_exporter": "python",
   "pygments_lexer": "ipython3",
   "version": "3.9.13"
  }
 },
 "nbformat": 4,
 "nbformat_minor": 5
}
