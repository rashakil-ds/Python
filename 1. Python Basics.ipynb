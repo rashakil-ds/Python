{
 "cells": [
  {
   "cell_type": "code",
   "execution_count": 4,
   "id": "37ba7944",
   "metadata": {},
   "outputs": [
    {
     "data": {
      "text/plain": [
       "2"
      ]
     },
     "execution_count": 4,
     "metadata": {},
     "output_type": "execute_result"
    }
   ],
   "source": [
    "import math\n",
    "x=10\n",
    "y=21\n",
    "math.floor(y/x)"
   ]
  },
  {
   "cell_type": "code",
   "execution_count": 5,
   "id": "eb09e64c",
   "metadata": {},
   "outputs": [
    {
     "data": {
      "text/plain": [
       "1"
      ]
     },
     "execution_count": 5,
     "metadata": {},
     "output_type": "execute_result"
    }
   ],
   "source": [
    "math.ceil(x/y)"
   ]
  },
  {
   "cell_type": "code",
   "execution_count": 6,
   "id": "bcf5c0d1",
   "metadata": {},
   "outputs": [
    {
     "data": {
      "text/plain": [
       "28"
      ]
     },
     "execution_count": 6,
     "metadata": {},
     "output_type": "execute_result"
    }
   ],
   "source": [
    "import sys\n",
    "sys.getsizeof(x)"
   ]
  },
  {
   "cell_type": "markdown",
   "id": "566c3b3d",
   "metadata": {},
   "source": [
    "# Python String Methods"
   ]
  },
  {
   "cell_type": "code",
   "execution_count": 7,
   "id": "f78c8a5d",
   "metadata": {},
   "outputs": [
    {
     "data": {
      "text/plain": [
       "8"
      ]
     },
     "execution_count": 7,
     "metadata": {},
     "output_type": "execute_result"
    }
   ],
   "source": [
    "data = '60 Days of python'\n",
    "data.find('of')"
   ]
  },
  {
   "cell_type": "code",
   "execution_count": 8,
   "id": "d9d24c29",
   "metadata": {},
   "outputs": [
    {
     "data": {
      "text/plain": [
       "9"
      ]
     },
     "execution_count": 8,
     "metadata": {},
     "output_type": "execute_result"
    }
   ],
   "source": [
    "data.find('f')"
   ]
  },
  {
   "cell_type": "code",
   "execution_count": 9,
   "id": "3fa6baab",
   "metadata": {},
   "outputs": [
    {
     "data": {
      "text/plain": [
       "'60 days of python'"
      ]
     },
     "execution_count": 9,
     "metadata": {},
     "output_type": "execute_result"
    }
   ],
   "source": [
    "data.lower()"
   ]
  },
  {
   "cell_type": "code",
   "execution_count": 10,
   "id": "67067b21",
   "metadata": {},
   "outputs": [
    {
     "data": {
      "text/plain": [
       "'60 DAYS OF PYTHON'"
      ]
     },
     "execution_count": 10,
     "metadata": {},
     "output_type": "execute_result"
    }
   ],
   "source": [
    "data.upper()"
   ]
  },
  {
   "cell_type": "code",
   "execution_count": 11,
   "id": "9e201cc6",
   "metadata": {},
   "outputs": [
    {
     "data": {
      "text/plain": [
       "'60 days of python'"
      ]
     },
     "execution_count": 11,
     "metadata": {},
     "output_type": "execute_result"
    }
   ],
   "source": [
    "data.capitalize() #first letter capital"
   ]
  },
  {
   "cell_type": "code",
   "execution_count": 12,
   "id": "2ad0be90",
   "metadata": {},
   "outputs": [
    {
     "data": {
      "text/plain": [
       "'60 dAYS OF PYTHON'"
      ]
     },
     "execution_count": 12,
     "metadata": {},
     "output_type": "execute_result"
    }
   ],
   "source": [
    "data.swapcase()"
   ]
  },
  {
   "cell_type": "code",
   "execution_count": 13,
   "id": "d45bd421",
   "metadata": {},
   "outputs": [
    {
     "data": {
      "text/plain": [
       "'60 Days Of Python'"
      ]
     },
     "execution_count": 13,
     "metadata": {},
     "output_type": "execute_result"
    }
   ],
   "source": [
    "data.title()"
   ]
  },
  {
   "cell_type": "code",
   "execution_count": 14,
   "id": "8578d572",
   "metadata": {},
   "outputs": [
    {
     "data": {
      "text/plain": [
       "False"
      ]
     },
     "execution_count": 14,
     "metadata": {},
     "output_type": "execute_result"
    }
   ],
   "source": [
    "data.islower()"
   ]
  },
  {
   "cell_type": "code",
   "execution_count": 15,
   "id": "56040bee",
   "metadata": {},
   "outputs": [
    {
     "data": {
      "text/plain": [
       "['60', 'Days', 'of', 'python']"
      ]
     },
     "execution_count": 15,
     "metadata": {},
     "output_type": "execute_result"
    }
   ],
   "source": [
    "data.split()"
   ]
  },
  {
   "cell_type": "code",
   "execution_count": 16,
   "id": "c3d43280",
   "metadata": {},
   "outputs": [
    {
     "data": {
      "text/plain": [
       "'60 AI of python'"
      ]
     },
     "execution_count": 16,
     "metadata": {},
     "output_type": "execute_result"
    }
   ],
   "source": [
    "data.replace('Days','AI')"
   ]
  },
  {
   "cell_type": "markdown",
   "id": "f4776d96",
   "metadata": {},
   "source": [
    "# String Formating"
   ]
  },
  {
   "cell_type": "code",
   "execution_count": 18,
   "id": "4c56bcfe",
   "metadata": {},
   "outputs": [
    {
     "name": "stdout",
     "output_type": "stream",
     "text": [
      "I have  1000 taka\n"
     ]
    }
   ],
   "source": [
    "x = 10\n",
    "y = 100\n",
    "z = x*y\n",
    "\n",
    "print('I have ', z, 'taka')"
   ]
  },
  {
   "cell_type": "code",
   "execution_count": 19,
   "id": "60a6c7d8",
   "metadata": {},
   "outputs": [
    {
     "name": "stdout",
     "output_type": "stream",
     "text": [
      "I have 1000 taka\n"
     ]
    }
   ],
   "source": [
    "print('I have {} taka'.format(z))"
   ]
  },
  {
   "cell_type": "markdown",
   "id": "33271ebc",
   "metadata": {},
   "source": [
    "# If else Statements"
   ]
  },
  {
   "cell_type": "code",
   "execution_count": 21,
   "id": "6a5f2e75",
   "metadata": {},
   "outputs": [
    {
     "name": "stdout",
     "output_type": "stream",
     "text": [
      "y is greater than x\n",
      "data science\n"
     ]
    }
   ],
   "source": [
    "x = 50\n",
    "y = 100\n",
    "\n",
    "if x>y:\n",
    "    print('x is greater than y')\n",
    "if y>x:\n",
    "    print('y is greater than x')\n",
    "    print('data science')\n",
    "    \n",
    "else:\n",
    "    print('Out!')"
   ]
  },
  {
   "cell_type": "code",
   "execution_count": 23,
   "id": "cea59afe",
   "metadata": {},
   "outputs": [
    {
     "name": "stdout",
     "output_type": "stream",
     "text": [
      "y is greater than x\n",
      "data science\n",
      "Not equal\n"
     ]
    }
   ],
   "source": [
    "x = 50\n",
    "y = 100\n",
    "\n",
    "if x>y:\n",
    "    print('x is greater than y')\n",
    "    \n",
    "elif y>x:\n",
    "    print('y is greater than x')\n",
    "    print('data science')\n",
    "    if x != y:\n",
    "        print('Not equal')\n",
    "    \n",
    "else:\n",
    "    print('Out!')"
   ]
  },
  {
   "cell_type": "code",
   "execution_count": 25,
   "id": "01d01bdb",
   "metadata": {},
   "outputs": [
    {
     "name": "stdout",
     "output_type": "stream",
     "text": [
      "Enter any number : 16\n",
      "No 1\n"
     ]
    }
   ],
   "source": [
    "num = float(input('Enter any number : '))\n",
    "\n",
    "if num % 2 == 0:\n",
    "    if num % 5 ==0:\n",
    "        print(num,' Divisible bt 5 and 2')\n",
    "    else:\n",
    "        print('No 1')\n",
    "else:\n",
    "    print('No 2')"
   ]
  },
  {
   "cell_type": "code",
   "execution_count": 20,
   "id": "1fd69389",
   "metadata": {},
   "outputs": [
    {
     "name": "stdout",
     "output_type": "stream",
     "text": [
      "Enter first number: 1\n",
      "Enter second number: 4\n",
      "Enter third number: 7\n",
      "The largest number is 7\n"
     ]
    }
   ],
   "source": [
    "# take three integer numbers from user input\n",
    "\n",
    "num1 = int(input(\"Enter first number: \"))\n",
    "num2 = int(input(\"Enter second number: \"))\n",
    "num3 = int(input(\"Enter third number: \"))\n",
    " \n",
    "if (num1 > num2) and (num1 > num3):\n",
    "    largest = num1\n",
    "    \n",
    "elif (num2 > num1) and (num2 > num3):\n",
    "    largest = num2\n",
    "    \n",
    "else:\n",
    "    largest = num3\n",
    "\n",
    "print(\"The largest number is\",largest)"
   ]
  },
  {
   "cell_type": "code",
   "execution_count": null,
   "id": "97dc9312",
   "metadata": {},
   "outputs": [],
   "source": []
  }
 ],
 "metadata": {
  "kernelspec": {
   "display_name": "Python 3 (ipykernel)",
   "language": "python",
   "name": "python3"
  },
  "language_info": {
   "codemirror_mode": {
    "name": "ipython",
    "version": 3
   },
   "file_extension": ".py",
   "mimetype": "text/x-python",
   "name": "python",
   "nbconvert_exporter": "python",
   "pygments_lexer": "ipython3",
   "version": "3.9.13"
  }
 },
 "nbformat": 4,
 "nbformat_minor": 5
}
