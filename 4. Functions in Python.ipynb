{
 "cells": [
  {
   "cell_type": "code",
   "execution_count": 1,
   "id": "eaf2089a",
   "metadata": {},
   "outputs": [
    {
     "name": "stdout",
     "output_type": "stream",
     "text": [
      "50\n"
     ]
    }
   ],
   "source": [
    "x=50\n",
    "def mf():\n",
    "    print(x)\n",
    "mf()"
   ]
  },
  {
   "cell_type": "code",
   "execution_count": 2,
   "id": "07fe2e98",
   "metadata": {},
   "outputs": [
    {
     "name": "stdout",
     "output_type": "stream",
     "text": [
      "10\n"
     ]
    }
   ],
   "source": [
    "x=50\n",
    "def mf():\n",
    "    x=10\n",
    "    print(x)\n",
    "mf()"
   ]
  },
  {
   "cell_type": "code",
   "execution_count": 2,
   "id": "6420a316",
   "metadata": {},
   "outputs": [
    {
     "name": "stdout",
     "output_type": "stream",
     "text": [
      "10\n",
      "10\n"
     ]
    }
   ],
   "source": [
    "def mf():\n",
    "    global y\n",
    "    y=10\n",
    "    print(y)\n",
    "mf()\n",
    "\n",
    "print(y)"
   ]
  },
  {
   "cell_type": "code",
   "execution_count": 1,
   "id": "8eb99455",
   "metadata": {},
   "outputs": [
    {
     "name": "stdout",
     "output_type": "stream",
     "text": [
      "aiquest.org\n"
     ]
    }
   ],
   "source": [
    "def myfunc():\n",
    "    print('aiquest.org')\n",
    "myfunc()"
   ]
  },
  {
   "cell_type": "code",
   "execution_count": 2,
   "id": "ecbf6fb0",
   "metadata": {},
   "outputs": [
    {
     "name": "stdout",
     "output_type": "stream",
     "text": [
      "aiquest.org\n"
     ]
    }
   ],
   "source": [
    "myfunc()"
   ]
  },
  {
   "cell_type": "code",
   "execution_count": 3,
   "id": "adc11606",
   "metadata": {},
   "outputs": [],
   "source": [
    "def myfunc2():\n",
    "    print('aiquest.org')"
   ]
  },
  {
   "cell_type": "code",
   "execution_count": 4,
   "id": "2ac71447",
   "metadata": {},
   "outputs": [
    {
     "name": "stdout",
     "output_type": "stream",
     "text": [
      "aiquest.org\n"
     ]
    }
   ],
   "source": [
    "myfunc2()"
   ]
  },
  {
   "cell_type": "code",
   "execution_count": 5,
   "id": "263d9669",
   "metadata": {},
   "outputs": [
    {
     "name": "stdout",
     "output_type": "stream",
     "text": [
      "aiquest.org\n",
      "None\n"
     ]
    }
   ],
   "source": [
    "print(myfunc2())"
   ]
  },
  {
   "cell_type": "markdown",
   "id": "ce28f2fb",
   "metadata": {},
   "source": [
    "When you call myfunc2() with print(myfunc2()) in Python, myfunc2() will be executed and its output will be printed by print(). However, since myfunc2() does not return any value (i.e., it does not have a return statement), the value printed by print() will be 'None'."
   ]
  },
  {
   "cell_type": "code",
   "execution_count": 6,
   "id": "23c28b90",
   "metadata": {},
   "outputs": [],
   "source": [
    "def myfunc3():\n",
    "    print('aiquest.org')\n",
    "    return 1"
   ]
  },
  {
   "cell_type": "code",
   "execution_count": 7,
   "id": "423bce73",
   "metadata": {},
   "outputs": [
    {
     "name": "stdout",
     "output_type": "stream",
     "text": [
      "aiquest.org\n"
     ]
    },
    {
     "data": {
      "text/plain": [
       "1"
      ]
     },
     "execution_count": 7,
     "metadata": {},
     "output_type": "execute_result"
    }
   ],
   "source": [
    "myfunc3()"
   ]
  },
  {
   "cell_type": "code",
   "execution_count": 8,
   "id": "25e76a30",
   "metadata": {},
   "outputs": [
    {
     "name": "stdout",
     "output_type": "stream",
     "text": [
      "aiquest.org\n",
      "1\n"
     ]
    }
   ],
   "source": [
    "print(myfunc3())"
   ]
  },
  {
   "cell_type": "code",
   "execution_count": 9,
   "id": "3e47e32b",
   "metadata": {},
   "outputs": [],
   "source": [
    "def user_input():\n",
    "    x1 = input()\n",
    "    y1 = input()\n",
    "    x2 = input()\n",
    "    y2 = input()\n",
    "    return x1, y1, x2, y2"
   ]
  },
  {
   "cell_type": "code",
   "execution_count": 10,
   "id": "7e8ec6af",
   "metadata": {},
   "outputs": [
    {
     "name": "stdout",
     "output_type": "stream",
     "text": [
      "1\n",
      "2\n",
      "3\n",
      "4\n"
     ]
    },
    {
     "data": {
      "text/plain": [
       "('1', '2', '3', '4')"
      ]
     },
     "execution_count": 10,
     "metadata": {},
     "output_type": "execute_result"
    }
   ],
   "source": [
    "user_input()"
   ]
  },
  {
   "cell_type": "code",
   "execution_count": 11,
   "id": "463bf515",
   "metadata": {},
   "outputs": [],
   "source": [
    "def user_input2():\n",
    "    x1 = input()\n",
    "    y1 = input()\n",
    "    x2 = input()\n",
    "    y2 = input()\n",
    "    return x1, x2, y1, y2"
   ]
  },
  {
   "cell_type": "code",
   "execution_count": 12,
   "id": "9af219cf",
   "metadata": {},
   "outputs": [
    {
     "name": "stdout",
     "output_type": "stream",
     "text": [
      "1\n",
      "2\n",
      "3\n",
      "4\n"
     ]
    },
    {
     "data": {
      "text/plain": [
       "('1', '3', '2', '4')"
      ]
     },
     "execution_count": 12,
     "metadata": {},
     "output_type": "execute_result"
    }
   ],
   "source": [
    "user_input2()"
   ]
  },
  {
   "cell_type": "code",
   "execution_count": 13,
   "id": "97bd56a8",
   "metadata": {},
   "outputs": [],
   "source": [
    "def user_input3():\n",
    "    x1 = input()\n",
    "    y1 = input()\n",
    "    x2 = input()\n",
    "    y2 = input()\n",
    "    return x1, y1, x2,  y2"
   ]
  },
  {
   "cell_type": "code",
   "execution_count": 14,
   "id": "b412a96b",
   "metadata": {},
   "outputs": [
    {
     "name": "stdout",
     "output_type": "stream",
     "text": [
      "1\n",
      "2\n",
      "3\n",
      "4\n"
     ]
    }
   ],
   "source": [
    "a,b,c,d = user_input3()"
   ]
  },
  {
   "cell_type": "code",
   "execution_count": 15,
   "id": "85434558",
   "metadata": {},
   "outputs": [
    {
     "data": {
      "text/plain": [
       "('1', '2', '3', '4')"
      ]
     },
     "execution_count": 15,
     "metadata": {},
     "output_type": "execute_result"
    }
   ],
   "source": [
    "a,b,c,d"
   ]
  },
  {
   "cell_type": "code",
   "execution_count": 16,
   "id": "f6a722dd",
   "metadata": {},
   "outputs": [
    {
     "name": "stdout",
     "output_type": "stream",
     "text": [
      "1\n",
      "2\n",
      "3\n",
      "4\n"
     ]
    }
   ],
   "source": [
    "def user_input3():\n",
    "    x1 = input()\n",
    "    y1 = input()\n",
    "    x2 = input()\n",
    "    y2 = input()\n",
    "    return (x1, y1),(x2,y2)\n",
    "\n",
    "(p,q),(r,s) = user_input3()"
   ]
  },
  {
   "cell_type": "code",
   "execution_count": 17,
   "id": "29ed6206",
   "metadata": {},
   "outputs": [
    {
     "data": {
      "text/plain": [
       "('1', '2')"
      ]
     },
     "execution_count": 17,
     "metadata": {},
     "output_type": "execute_result"
    }
   ],
   "source": [
    "p,q"
   ]
  },
  {
   "cell_type": "code",
   "execution_count": 18,
   "id": "132db492",
   "metadata": {},
   "outputs": [
    {
     "data": {
      "text/plain": [
       "('1', '2', '3', '4')"
      ]
     },
     "execution_count": 18,
     "metadata": {},
     "output_type": "execute_result"
    }
   ],
   "source": [
    "p,q,r,s"
   ]
  },
  {
   "cell_type": "code",
   "execution_count": 19,
   "id": "7baff1fb",
   "metadata": {},
   "outputs": [],
   "source": [
    "def num1():\n",
    "    for i in range(1,10):\n",
    "        print(i)"
   ]
  },
  {
   "cell_type": "code",
   "execution_count": 20,
   "id": "52eeed3a",
   "metadata": {},
   "outputs": [
    {
     "name": "stdout",
     "output_type": "stream",
     "text": [
      "1\n",
      "2\n",
      "3\n",
      "4\n",
      "5\n",
      "6\n",
      "7\n",
      "8\n",
      "9\n"
     ]
    }
   ],
   "source": [
    "num1()"
   ]
  },
  {
   "cell_type": "code",
   "execution_count": 21,
   "id": "dabe8590",
   "metadata": {},
   "outputs": [
    {
     "name": "stdout",
     "output_type": "stream",
     "text": [
      "1\n",
      "2\n",
      "3\n",
      "4\n"
     ]
    },
    {
     "data": {
      "text/plain": [
       "(('1', '2'), ('3', '4'))"
      ]
     },
     "execution_count": 21,
     "metadata": {},
     "output_type": "execute_result"
    }
   ],
   "source": [
    "user_input3()"
   ]
  },
  {
   "cell_type": "code",
   "execution_count": 22,
   "id": "49623df0",
   "metadata": {},
   "outputs": [
    {
     "name": "stdout",
     "output_type": "stream",
     "text": [
      "1\n",
      "2\n",
      "3\n",
      "4\n"
     ]
    }
   ],
   "source": [
    "def user_input3():\n",
    "    x1 = input()\n",
    "    y1 = input()\n",
    "    x2 = input()\n",
    "    y2 = input()\n",
    "    return (x1, y1),(x2,y2)\n",
    "\n",
    "(p,q) = user_input3()"
   ]
  },
  {
   "cell_type": "code",
   "execution_count": 23,
   "id": "03e4488b",
   "metadata": {},
   "outputs": [
    {
     "data": {
      "text/plain": [
       "('1', '2')"
      ]
     },
     "execution_count": 23,
     "metadata": {},
     "output_type": "execute_result"
    }
   ],
   "source": [
    "p"
   ]
  },
  {
   "cell_type": "code",
   "execution_count": 24,
   "id": "daa5bc12",
   "metadata": {},
   "outputs": [
    {
     "data": {
      "text/plain": [
       "('3', '4')"
      ]
     },
     "execution_count": 24,
     "metadata": {},
     "output_type": "execute_result"
    }
   ],
   "source": [
    "q"
   ]
  },
  {
   "cell_type": "code",
   "execution_count": 25,
   "id": "5e3e7a09",
   "metadata": {},
   "outputs": [
    {
     "name": "stdout",
     "output_type": "stream",
     "text": [
      "1\n",
      "2\n",
      "3\n",
      "4\n"
     ]
    }
   ],
   "source": [
    "def user_input3():\n",
    "    x1 = input()\n",
    "    y1 = input()\n",
    "    x2 = input()\n",
    "    y2 = input()\n",
    "    return (x1, y1),(x2,y2)\n",
    "\n",
    "(p,q),_ = user_input3()"
   ]
  },
  {
   "cell_type": "code",
   "execution_count": 26,
   "id": "7217dca8",
   "metadata": {},
   "outputs": [
    {
     "data": {
      "text/plain": [
       "('1', '2')"
      ]
     },
     "execution_count": 26,
     "metadata": {},
     "output_type": "execute_result"
    }
   ],
   "source": [
    "p,q"
   ]
  },
  {
   "cell_type": "code",
   "execution_count": 27,
   "id": "c8d36b0e",
   "metadata": {},
   "outputs": [],
   "source": [
    "a,b = 5,10\n",
    "def sum1():\n",
    "    ans = a+b\n",
    "    return ans"
   ]
  },
  {
   "cell_type": "code",
   "execution_count": 28,
   "id": "e72b33cd",
   "metadata": {},
   "outputs": [
    {
     "data": {
      "text/plain": [
       "15"
      ]
     },
     "execution_count": 28,
     "metadata": {},
     "output_type": "execute_result"
    }
   ],
   "source": [
    "sum1()"
   ]
  },
  {
   "cell_type": "code",
   "execution_count": 35,
   "id": "ed463a83",
   "metadata": {},
   "outputs": [],
   "source": [
    "a,b = 5,10\n",
    "def sum2(a,b):\n",
    "    ans = a+b\n",
    "    return ans"
   ]
  },
  {
   "cell_type": "code",
   "execution_count": 36,
   "id": "3af78109",
   "metadata": {},
   "outputs": [
    {
     "data": {
      "text/plain": [
       "15"
      ]
     },
     "execution_count": 36,
     "metadata": {},
     "output_type": "execute_result"
    }
   ],
   "source": [
    "sum2(a,b)"
   ]
  },
  {
   "cell_type": "code",
   "execution_count": 38,
   "id": "587aeee6",
   "metadata": {},
   "outputs": [
    {
     "data": {
      "text/plain": [
       "3"
      ]
     },
     "execution_count": 38,
     "metadata": {},
     "output_type": "execute_result"
    }
   ],
   "source": [
    "a,b = 5,10\n",
    "def sum2(a,b):\n",
    "    ans = a+b\n",
    "    return ans\n",
    "a=1\n",
    "b=2\n",
    "sum2(a,b)"
   ]
  },
  {
   "cell_type": "code",
   "execution_count": 39,
   "id": "44a67d0b",
   "metadata": {},
   "outputs": [
    {
     "name": "stdout",
     "output_type": "stream",
     "text": [
      "1\n",
      "2\n",
      "3\n",
      "4\n",
      "5\n",
      "6\n",
      "7\n",
      "8\n",
      "9\n"
     ]
    }
   ],
   "source": [
    "num1()"
   ]
  },
  {
   "cell_type": "code",
   "execution_count": 4,
   "id": "7abc5129",
   "metadata": {},
   "outputs": [
    {
     "name": "stdout",
     "output_type": "stream",
     "text": [
      "Fibonacci sequence:\n",
      "0\n",
      "1\n",
      "1\n",
      "2\n",
      "3\n"
     ]
    }
   ],
   "source": [
    "# Python program to display the Fibonacci sequence\n",
    "def recur_fibo(n):\n",
    "    if n <= 1:\n",
    "        return n\n",
    "    else:\n",
    "        return(recur_fibo(n-1) + recur_fibo(n-2))\n",
    "\n",
    "nterms = 5\n",
    "\n",
    "# check if the number of terms is valid\n",
    "if nterms <= 0:\n",
    "    print(\"Plese enter a positive integer\")\n",
    "else:\n",
    "    print(\"Fibonacci sequence:\")\n",
    "    for i in range(nterms):\n",
    "        print(recur_fibo(i))"
   ]
  },
  {
   "cell_type": "code",
   "execution_count": null,
   "id": "b00f4867",
   "metadata": {},
   "outputs": [],
   "source": []
  }
 ],
 "metadata": {
  "kernelspec": {
   "display_name": "Python 3 (ipykernel)",
   "language": "python",
   "name": "python3"
  },
  "language_info": {
   "codemirror_mode": {
    "name": "ipython",
    "version": 3
   },
   "file_extension": ".py",
   "mimetype": "text/x-python",
   "name": "python",
   "nbconvert_exporter": "python",
   "pygments_lexer": "ipython3",
   "version": "3.9.13"
  }
 },
 "nbformat": 4,
 "nbformat_minor": 5
}
